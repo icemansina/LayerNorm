{
 "cells": [
  {
   "cell_type": "code",
   "execution_count": 1,
   "metadata": {
    "collapsed": false
   },
   "outputs": [
    {
     "name": "stderr",
     "output_type": "stream",
     "text": [
      "Using gpu device 0: GeForce GTX TITAN X (CNMeM is disabled, cuDNN 5005)\n"
     ]
    }
   ],
   "source": [
    "import pytest\n",
    "from lasagne.layers import InputLayer, DenseLayer, Gate, Layer, EmbeddingLayer\n",
    "from lasagne.layers import helper\n",
    "import theano\n",
    "import theano.tensor as T\n",
    "import numpy as np\n",
    "import lasagne\n",
    "from mock import Mock\n",
    "\n",
    "from CustomLSTMLayer import LNLSTMLayer, LSTMLayer"
   ]
  },
  {
   "cell_type": "code",
   "execution_count": 7,
   "metadata": {
    "collapsed": false
   },
   "outputs": [],
   "source": [
    "#def test_lnlstm_get_simple_output():\n",
    "feat_size = 20\n",
    "hid_size = 10\n",
    "l_in = InputLayer((None, None, feat_size))\n",
    "l_lstm = LNLSTMLayer(l_in, hid_size)\n",
    "\n",
    "output = lasagne.layers.get_output(l_lstm)\n",
    "y = theano.function([l_in.input_var], [output])\n",
    "    "
   ]
  },
  {
   "cell_type": "code",
   "execution_count": 9,
   "metadata": {
    "collapsed": false
   },
   "outputs": [],
   "source": [
    "#def test_lstm_return_final():\n",
    "num_batch, seq_len, n_features = 2, 3, 4\n",
    "num_units = 2\n",
    "in_shp = (num_batch, seq_len, n_features)\n",
    "x_in = np.random.random(in_shp).astype('float32')\n",
    "\n",
    "l_inp = InputLayer(in_shp)\n",
    "lasagne.random.get_rng().seed(1234)\n",
    "l_rec_final = LSTMLayer(l_inp, num_units, only_return_final=True)\n",
    "lasagne.random.get_rng().seed(1234)\n",
    "l_rec_all = LSTMLayer(l_inp, num_units, only_return_final=False)\n",
    "\n",
    "output_final = helper.get_output(l_rec_final).eval({l_inp.input_var: x_in})\n",
    "output_all = helper.get_output(l_rec_all).eval({l_inp.input_var: x_in})\n",
    "\n",
    "assert output_final.shape == (output_all.shape[0], output_all.shape[2])\n",
    "assert output_final.shape == lasagne.layers.get_output_shape(l_rec_final)\n",
    "assert np.allclose(output_final, output_all[:, -1])\n",
    "\n"
   ]
  },
  {
   "cell_type": "code",
   "execution_count": 12,
   "metadata": {
    "collapsed": false
   },
   "outputs": [
    {
     "data": {
      "text/plain": [
       "(2, 3, 2)"
      ]
     },
     "execution_count": 12,
     "metadata": {},
     "output_type": "execute_result"
    }
   ],
   "source": [
    "output_all.shape"
   ]
  },
  {
   "cell_type": "code",
   "execution_count": null,
   "metadata": {
    "collapsed": true
   },
   "outputs": [],
   "source": []
  }
 ],
 "metadata": {
  "kernelspec": {
   "display_name": "Python 2",
   "language": "python",
   "name": "python2"
  },
  "language_info": {
   "codemirror_mode": {
    "name": "ipython",
    "version": 2
   },
   "file_extension": ".py",
   "mimetype": "text/x-python",
   "name": "python",
   "nbconvert_exporter": "python",
   "pygments_lexer": "ipython2",
   "version": "2.7.12"
  }
 },
 "nbformat": 4,
 "nbformat_minor": 0
}
